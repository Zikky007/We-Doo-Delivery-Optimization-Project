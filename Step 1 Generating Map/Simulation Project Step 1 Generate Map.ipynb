{
 "cells": [
  {
   "cell_type": "code",
   "execution_count": 1,
   "id": "db677263-d0bb-4bb6-9e45-d34ded4a6a55",
   "metadata": {},
   "outputs": [],
   "source": [
    "import matplotlib.pyplot as plt\n",
    "import math\n",
    "import random\n",
    "import numpy as np"
   ]
  },
  {
   "cell_type": "markdown",
   "id": "4c6a7c6e-baaf-448e-909c-6758a825b3e3",
   "metadata": {},
   "source": [
    "# 1. Utilities\n",
    "** Note: The following codes were provided in Moodle for use as a starting point of my the project"
   ]
  },
  {
   "cell_type": "markdown",
   "id": "07415259-dec4-42ae-865a-934f6a6d4f05",
   "metadata": {},
   "source": [
    "# 1.1. Points and Distances"
   ]
  },
  {
   "cell_type": "markdown",
   "id": "327ca0b8-0b58-4d08-b565-1c599354c43e",
   "metadata": {},
   "source": [
    "Euclidean Distance between two points"
   ]
  },
  {
   "cell_type": "code",
   "execution_count": 2,
   "id": "a21a0eb0-661e-4f6a-9aa9-18d8f0f0cbc1",
   "metadata": {},
   "outputs": [],
   "source": [
    "def dist(p1, p2):\n",
    "    (x1, y1) = p1\n",
    "    (x2, y2) = p2\n",
    "    return int(math.sqrt((x1-x2)**2+(y1-y2)**2))"
   ]
  },
  {
   "cell_type": "markdown",
   "id": "205db4e3-1ffc-434e-bb2d-09dd7d0d51b7",
   "metadata": {},
   "source": [
    "The nearest link between two point sets"
   ]
  },
  {
   "cell_type": "code",
   "execution_count": 3,
   "id": "dd087925-4db4-4e16-8f8f-b5898f4360da",
   "metadata": {},
   "outputs": [],
   "source": [
    "def nearest(X, P):\n",
    "    minD = math.inf\n",
    "    minP = None\n",
    "    for p in P:\n",
    "        for x in X:\n",
    "            d=dist(x, p)\n",
    "            if d<minD:\n",
    "                minX, minP, minD = x, p, d\n",
    "    return minX, minP         "
   ]
  },
  {
   "cell_type": "markdown",
   "id": "5f5e132a-919f-4961-b7fe-1c2738ec7983",
   "metadata": {},
   "source": [
    "# 1.2. Graphs"
   ]
  },
  {
   "cell_type": "code",
   "execution_count": 4,
   "id": "e3cf90e8-5cd6-43fa-b558-c1e732831227",
   "metadata": {},
   "outputs": [],
   "source": [
    "def generateRandomGraph(n, x0, y0, r):\n",
    "\n",
    "    def rounding(x):\n",
    "        return int(math.floor(x/10))*10\n",
    "\n",
    "    x0 = rounding(x0)\n",
    "    y0 = rounding(y0)\n",
    "    gridsize = rounding(r / math.sqrt(n) * 1.4)\n",
    "    r = int(math.floor(r/gridsize))*gridsize\n",
    "    split = int(2*r/gridsize)+1\n",
    "    X = np.linspace(x0-r, x0+r, split)\n",
    "    Y = np.linspace(y0-r, y0+r, split)\n",
    "    P = [ (int(x), int(y)) for x in X for y in Y if dist((x,y), (x0,y0)) < r ]\n",
    "    P = random.sample(P, k=n)\n",
    "    \n",
    "    E = []\n",
    "    \n",
    "    def addEdge(p, q):\n",
    "        if p in P and q in P and (p, q) not in E and (q, p) not in E:\n",
    "            E.append((p, q))\n",
    "    def addDiagonalEdge(p, q):\n",
    "        (xp, yp) = p\n",
    "        (xq, yq) = q\n",
    "        if p in P and q in P and (xp, yq) not in P and (xq, yp) not in P and (p, q) not in E and (q, p) not in E:\n",
    "            E.append((p, q))\n",
    "            \n",
    "    for (x, y) in P:\n",
    "        addEdge( (x, y), (x, y+gridsize) )\n",
    "        addEdge( (x, y), (x, y-gridsize) )\n",
    "        addEdge( (x, y), (x+gridsize, y) )\n",
    "        addEdge( (x, y), (x-gridsize, y) )\n",
    "        addDiagonalEdge( (x, y), (x+gridsize, y+gridsize) )\n",
    "        addDiagonalEdge( (x, y), (x+gridsize, y-gridsize) )\n",
    "        addDiagonalEdge( (x, y), (x-gridsize, y+gridsize) )\n",
    "        addDiagonalEdge( (x, y), (x-gridsize, y-gridsize) )\n",
    "        \n",
    "    return sorted(P), sorted(E)"
   ]
  },
  {
   "cell_type": "code",
   "execution_count": 5,
   "id": "443dbded-a668-41f9-a821-3f6d95e70991",
   "metadata": {},
   "outputs": [],
   "source": [
    "def plotGraph(P, E, col='b', grid=False):\n",
    "    fig = plt.gcf()\n",
    "    fig.set_size_inches(6, 6)\n",
    "    if not grid:\n",
    "        plt.axis('off')\n",
    "    plt.plot( [ p[0] for p in P ], [ p[1] for p in P ], col+'o', lw=1, ms=3)\n",
    "    for (p, q) in E:\n",
    "        plt.plot( [ p[0], q[0] ], [ p[1], q[1] ], col+'-o', lw=1, ms=3)\n",
    "    if grid:\n",
    "        plt.grid()"
   ]
  },
  {
   "cell_type": "code",
   "execution_count": 6,
   "id": "708b7577-25eb-418d-acce-3fa848d2156c",
   "metadata": {},
   "outputs": [
    {
     "data": {
      "image/png": "[encoded data removed]",
      "text/plain": [
       "<Figure size 600x600 with 1 Axes>"
      ]
     },
     "metadata": {},
     "output_type": "display_data"
    }
   ],
   "source": [
    "random.seed(5640)\n",
    "V, E = generateRandomGraph(100, 5000, 5000, 4500)\n",
    "plotGraph(V, E)"
   ]
  },
  {
   "cell_type": "code",
   "execution_count": 7,
   "id": "b9e48130-0479-4ca0-9ce5-152e3c9ac444",
   "metadata": {},
   "outputs": [],
   "source": [
    "def subgraph(P, E):\n",
    "    P = P.copy()\n",
    "    E = E.copy()\n",
    "    PP = [ P[0] ] \n",
    "    EE = []\n",
    "    P = P[1:]\n",
    "    extended = True\n",
    "    while extended:\n",
    "        extended = False\n",
    "        for (a, b) in E:\n",
    "            if a in PP and b in P:\n",
    "                PP.append(b)\n",
    "                P.remove(b)\n",
    "                EE.append((a, b))\n",
    "                E.remove((a, b))\n",
    "                extended = True\n",
    "                break\n",
    "            if a in P and b in PP:\n",
    "                PP.append(a)\n",
    "                P.remove(a)\n",
    "                EE.append((a, b))\n",
    "                E.remove((a, b))\n",
    "                extended = True\n",
    "                break\n",
    "            if a in PP and b in PP:\n",
    "                EE.append((a, b))\n",
    "                E.remove((a, b))\n",
    "                extended = True\n",
    "                break\n",
    "    return PP, EE, P, E      "
   ]
  },
  {
   "cell_type": "code",
   "execution_count": 8,
   "id": "fe9dc522-b771-4d34-86e6-b138e7172def",
   "metadata": {},
   "outputs": [],
   "source": [
    "def generateGraph(n, x0, y0, r):\n",
    "    P, E = generateRandomGraph(n, x0, y0, r)\n",
    "    P0, _, P1, _ = subgraph(P, E)\n",
    "    while len(P1)>0:\n",
    "        (p, q) = nearest(P0, P1)\n",
    "        E.append((p, q))\n",
    "        P0, _, P1, _ = subgraph(P, E)\n",
    "    return P, E"
   ]
  },
  {
   "cell_type": "code",
   "execution_count": 9,
   "id": "ea1a8858-7365-4705-b539-6bbe17bf9c6b",
   "metadata": {},
   "outputs": [
    {
     "data": {
      "image/png": "[encoded data removed]",
      "text/plain": [
       "<Figure size 600x600 with 1 Axes>"
      ]
     },
     "metadata": {},
     "output_type": "display_data"
    }
   ],
   "source": [
    "random.seed(42)\n",
    "V, E = generateGraph(100, 5000, 5000, 4500)\n",
    "plotGraph(V, E)"
   ]
  },
  {
   "cell_type": "markdown",
   "id": "b5de4f40-2cc6-4b72-9e8b-2583ef12ac0a",
   "metadata": {},
   "source": [
    "# 1.3. Lists and Paths"
   ]
  },
  {
   "cell_type": "code",
   "execution_count": 10,
   "id": "ca1622f6-9876-4066-8ce5-e3e57328a907",
   "metadata": {},
   "outputs": [],
   "source": [
    "def pathLength(P):\n",
    "    return 0 if len(P)<=1 else \\\n",
    "            dist(P[0], P[1])+pathLength(P[1:])"
   ]
  },
  {
   "cell_type": "code",
   "execution_count": 11,
   "id": "dc4defb9-c31d-4a95-8fb3-f86a521219c6",
   "metadata": {},
   "outputs": [],
   "source": [
    "def reverse(P):\n",
    "    return [ P[-i] for i in range(1,len(P)+1) ]"
   ]
  },
  {
   "cell_type": "code",
   "execution_count": 12,
   "id": "ef60940f-0dd4-4081-afa2-e103d5097fc6",
   "metadata": {},
   "outputs": [],
   "source": [
    "def index(x, L):\n",
    "    for i in range(len(L)):\n",
    "        if x==L[i]: \n",
    "            return i\n",
    "    return None"
   ]
  },
  {
   "cell_type": "code",
   "execution_count": 13,
   "id": "3a15b649-c6ad-4af2-83b4-9f671aaf10b8",
   "metadata": {},
   "outputs": [],
   "source": [
    "def addWithoutDuplicates(L, X):\n",
    "    for i in range(len(X)):\n",
    "        if X[i] not in L:\n",
    "            L.append(X[i])\n",
    "    return L"
   ]
  },
  {
   "cell_type": "markdown",
   "id": "b83b887c-dabd-4448-8029-2897851285bd",
   "metadata": {},
   "source": [
    "# 1.4. Generate Customer Locations "
   ]
  },
  {
   "cell_type": "code",
   "execution_count": 14,
   "id": "0944d99c-9440-411e-b7e1-e259b1810199",
   "metadata": {},
   "outputs": [],
   "source": [
    "def splitEdgeRandomly(V, E, s):\n",
    "    A, B = s\n",
    "    p = random.uniform(0.3,0.7)\n",
    "    x = int(A[0]+p*(B[0]-A[0]))\n",
    "    y = int(A[1]+p*(B[1]-A[1]))\n",
    "    t = (x,y)\n",
    "    E.remove(s) \n",
    "    E.append((A, t))\n",
    "    E.append((t, B))\n",
    "    V.append(t)\n",
    "    return (V, E), t"
   ]
  },
  {
   "cell_type": "code",
   "execution_count": 15,
   "id": "044a40eb-f2f1-4597-b967-7b9939d3f4d8",
   "metadata": {},
   "outputs": [],
   "source": [
    "def generateRandomTargets(V, E, n=7):\n",
    "    V, E = V.copy(), E.copy()\n",
    "    T = []\n",
    "    # we want to ensure that the beginning of the \n",
    "    # sequence of points generated randomly stays\n",
    "    # the same\n",
    "    mindist = 300\n",
    "    while len(T)<n:\n",
    "        s = random.choice(E)\n",
    "        A, B = s\n",
    "        if dist(A,B)>mindist: # avoid targets placed narrowly\n",
    "            (V, E), t = splitEdgeRandomly(V, E, s)\n",
    "            T.append(t)\n",
    "    return sorted(T)"
   ]
  },
  {
   "cell_type": "code",
   "execution_count": 16,
   "id": "13455056-4a6f-4cd3-ade4-b19f5833c1fb",
   "metadata": {},
   "outputs": [],
   "source": [
    "def addTargets(M, T):\n",
    "    V, E = M\n",
    "    E = E.copy()\n",
    "    V = V.copy()\n",
    "    for t in T:\n",
    "        minD = math.inf\n",
    "        minE = None\n",
    "        for e in E:\n",
    "            P, Q = e\n",
    "            distT = dist(P, t)+dist(t, Q)-dist(P, Q)\n",
    "            if distT < minD:\n",
    "                minD = distT\n",
    "                minE = e\n",
    "        P, Q = minE\n",
    "        E.remove( (P, Q) )\n",
    "        E.append( (P, t) )\n",
    "        E.append( (t, Q) )\n",
    "        V.append(t)\n",
    "    return V, E"
   ]
  },
  {
   "cell_type": "markdown",
   "id": "d1af87a6-92af-461f-9635-0cd67dc4c449",
   "metadata": {},
   "source": [
    "# 1.5. Generate Warehouse Locations"
   ]
  },
  {
   "cell_type": "code",
   "execution_count": 17,
   "id": "cc594b21-0c15-480b-8a76-3ee5c6ce6592",
   "metadata": {},
   "outputs": [],
   "source": [
    "def generateWarehouseLocation(M):\n",
    "    V, _ = M\n",
    "    W = random.sample(V, k=1)[0]\n",
    "    return W"
   ]
  },
  {
   "cell_type": "code",
   "execution_count": 18,
   "id": "6e27ef59-fa84-4472-971a-6e8b37fc092b",
   "metadata": {},
   "outputs": [],
   "source": [
    "def generateWarehouseLocations(M, seed=None):\n",
    "    if seed is not None:\n",
    "        random.seed(seed)\n",
    "    V, _ = M\n",
    "    W = random.sample(V, k=len(V)//10)\n",
    "    return W"
   ]
  },
  {
   "cell_type": "markdown",
   "id": "493238ab-c480-4a66-8506-ac3710e90e30",
   "metadata": {},
   "source": [
    "# 1.6. Plot Map with Delivery Route"
   ]
  },
  {
   "cell_type": "code",
   "execution_count": 19,
   "id": "3ce375ea-7da1-485e-92ae-35cec554f7ce",
   "metadata": {},
   "outputs": [],
   "source": [
    "def plotMap(G, T=[], P=[], W=None,\n",
    "            style='r-o', lw=1, ms=3, \n",
    "            styleT='go', msT=5,\n",
    "            styleP='b-o', lwP=3, msP=1,\n",
    "            stylePT='go', msPT=7,\n",
    "            styleW='bo', msW=7,\n",
    "            text=None, grid=False):\n",
    "    fig = plt.gcf()\n",
    "    fig.set_size_inches(6, 6)\n",
    "    V, E = G\n",
    "\n",
    "    if not grid:\n",
    "        plt.axis('off')\n",
    "    plt.plot( [ p[0] for p in V ], [ p[1] for p in V ], 'ro', lw=lw, ms=ms)\n",
    "    for (p, q) in E:\n",
    "        plt.plot( [ p[0], q[0] ], [ p[1], q[1] ], 'r-o', lw=lw, ms=ms)\n",
    "    for t in T:\n",
    "        plt.plot( [ t[0] ], [ t[1] ], \n",
    "                  styleT, ms=msT)\n",
    "    plt.plot( [ p[0] for p in P ],\n",
    "              [ p[1] for p in P ], \n",
    "              styleP, lw=lwP, ms=msP)\n",
    "    for p in P:\n",
    "        if p in T:\n",
    "            plt.plot( [ p[0] ], [ p[1] ], \n",
    "                      stylePT, ms=msPT)\n",
    "    if W is not None:\n",
    "        plt.plot( [ W[0] ], [ W[1] ], \n",
    "                      styleW, ms=msW)\n",
    "    if text is not None:\n",
    "        minX = min([p[0] for p in V])\n",
    "        plt.text(minX, 0, text)\n",
    "    if grid:\n",
    "        plt.grid()\n",
    "    plt.show()"
   ]
  },
  {
   "cell_type": "markdown",
   "id": "4697ebf9-d68c-4fe6-b03c-2b39b401c916",
   "metadata": {},
   "source": [
    "# 1.7. Generate Data"
   ]
  },
  {
   "cell_type": "code",
   "execution_count": 20,
   "id": "0a728997-29c5-43e4-b985-4cd08b4da8c9",
   "metadata": {},
   "outputs": [],
   "source": [
    "def generateData(seed=5640, nodes=100, customers=150, \n",
    "                 plot=False, log=False):\n",
    "\n",
    "    if seed is None:\n",
    "\n",
    "        print(\"Usage:  M, C = generateData(seed=5640, \")\n",
    "        print(\"                            nodes=100, customers=50, \")\n",
    "        print(\"                            plot=False, log=False)\")\n",
    "        print(\"\")\n",
    "        print(\"  seed  the seed value to be used for data generation. \")\n",
    "        print(\"        To test the application use seed=0, it will create\")\n",
    "        print(\"        a small map, with a very few customer locations and\")\n",
    "        print(\"        a small set of delivery data.\")\n",
    "        print(\"\")\n",
    "        print(\"  nodes the number of intersections (vertices) in the generated map\")\n",
    "        print(\"\")\n",
    "        print(\"  customers  the number of customers generated on the map\")\n",
    "        print(\"\")\n",
    "        print(\"  log   Controls print output during data generation.\")\n",
    "        print(\"\")\n",
    "        print(\"  plot  Controls graphical output during data generation.\")\n",
    "        print(\"\")\n",
    "        print(\"Returns:\")\n",
    "        print(\"\")\n",
    "        print(\"  M = (V, E) is the generated map given as a graph\")\n",
    "        print(\"    where V is a list of vertices, with each vertice \")\n",
    "        print(\"    given as a pair (x, y) of integer coordinates, \")\n",
    "        print(\"    and E is a list of edges, with each edge given\")\n",
    "        print(\"    as a pair (A, B) of vertices, with each vertex again\")\n",
    "        print(\"    given as a pair (x, y) of integer coordinates\")\n",
    "        print(\"\")\n",
    "        # print(\"  W ∈ V  is the location of the distribution warehouse\")\n",
    "        # print(\"    given as a pair (x, y) of integer coordinates\")\n",
    "        # print(\"\")\n",
    "        print(\"  C is a list of customer locations\")\n",
    "        print(\"    given as pairs (x, y) of integer coordinates on or near\")\n",
    "        print(\"    existing edges E. To integrate a set of customer locations\")\n",
    "        print(\"    into a given map M = (V, E), use addTarget(M, C)\")\n",
    "        print(\"\")\n",
    "        \n",
    "        seed = 0\n",
    "    \n",
    "    if seed==0:          # generate very simple test data \n",
    "        nodes = 20       # number of points in map\n",
    "        customers = 5    # number of  customers\n",
    "        grid = True\n",
    "            \n",
    "    else:\n",
    "        grid = False\n",
    "        \n",
    "    random.seed(seed)\n",
    "    \n",
    "    V, E = generateRandomGraph(nodes, 4000, 4000, 4000)\n",
    "    \n",
    "    C = generateRandomTargets(V, E, customers)\n",
    "\n",
    "    if log:\n",
    "        print(f\"Generated map with {nodes:d} nodes and \" \n",
    "              f\"{customers:d} customer locations\")\n",
    "    if plot:\n",
    "        label=\"\" if seed==0 else f\"seed={seed:4d}\"\n",
    "        plotMap((V, E), T=C, text=label, grid=grid)\n",
    "    \n",
    "    return (V, E), C"
   ]
  },
  {
   "cell_type": "markdown",
   "id": "81820e12-6fff-4d09-ac81-1d3322374814",
   "metadata": {},
   "source": [
    "Data Generation is Reproducible "
   ]
  },
  {
   "cell_type": "code",
   "execution_count": 21,
   "id": "cf8fbf1b-9523-4a52-95b8-f6617611206d",
   "metadata": {},
   "outputs": [
    {
     "data": {
      "text/plain": [
       "True"
      ]
     },
     "execution_count": 21,
     "metadata": {},
     "output_type": "execute_result"
    }
   ],
   "source": [
    "D1 = generateData(5640)\n",
    "D2 = generateData(5640)\n",
    "D1 == D2"
   ]
  },
  {
   "cell_type": "markdown",
   "id": "9c417fc8-62f7-4e30-b5a8-8e6453f763c8",
   "metadata": {},
   "source": [
    "# 2. Generating Data\n",
    "This section shows how you can generate the test data for the problem."
   ]
  },
  {
   "cell_type": "markdown",
   "id": "9f17fbe0-6339-4436-a90f-a8196490206a",
   "metadata": {},
   "source": [
    "# 2.1. General Help Message"
   ]
  },
  {
   "cell_type": "code",
   "execution_count": 22,
   "id": "36e81361-3952-44df-bc48-ead39fe9e3b4",
   "metadata": {},
   "outputs": [],
   "source": [
    "M, C = generateData(5640)"
   ]
  },
  {
   "cell_type": "markdown",
   "id": "7cf59328-2152-4b66-b0f7-702254822897",
   "metadata": {},
   "source": [
    "Usage:  M, C = generateData(seed=5640, \n",
    "                            nodes=100, customers=150, \n",
    "                            plot=False, log=False)\n",
    "\n",
    "  seed  the seed value to be used for data generation. \n",
    "        To test the application use seed=0, it will create\n",
    "        a small map, with a very few customer locations and\n",
    "        a small set of delivery data.\n",
    "\n",
    "  nodes the number of intersections (vertices) in the generated map\n",
    "\n",
    "  customers  the number of customers generated on the map\n",
    "\n",
    "  log   Controls print output during data generation.\n",
    "\n",
    "  plot  Controls graphical output during data generation.\n",
    "\n",
    "Returns:\n",
    "\n",
    "  M = (V, E) is the generated map given as a graph\n",
    "    where V is a list of vertices, with each vertice \n",
    "    given as a pair (x, y) of integer coordinates, \n",
    "    and E is a list of edges, with each edge given\n",
    "    as a pair (A, B) of vertices, with each vertex again\n",
    "    given as a pair (x, y) of integer coordinates\n",
    "\n",
    "  C is a list of customer locations\n",
    "    given as pairs (x, y) of integer coordinates on or near\n",
    "    existing edges E. To integrate a set of customer locations\n",
    "    into a given map M = (V, E), use addTarget(M, C). # Code and comment from the Generate Map Data,ipynb provided in Moodle\n"
   ]
  },
  {
   "cell_type": "markdown",
   "id": "725f899e-0b76-4ea0-826a-743677f1077a",
   "metadata": {},
   "source": [
    "# 2.2. Analysing Simple Test Data\n",
    "This section illustrates the data structure generated"
   ]
  },
  {
   "cell_type": "code",
   "execution_count": 23,
   "id": "53dcfe50-969d-4df3-9f39-4c3899d48fbc",
   "metadata": {},
   "outputs": [
    {
     "name": "stdout",
     "output_type": "stream",
     "text": [
      "Generated map with 20 nodes and 5 customer locations\n"
     ]
    },
    {
     "data": {
      "image/png": "[encoded data removed]",
      "text/plain": [
       "<Figure size 600x600 with 1 Axes>"
      ]
     },
     "metadata": {},
     "output_type": "display_data"
    }
   ],
   "source": [
    "sampleData = generateData(seed=0, log=True, plot=True)"
   ]
  },
  {
   "cell_type": "code",
   "execution_count": 24,
   "id": "6ee5e524-7577-417e-afe0-d64f95362c63",
   "metadata": {},
   "outputs": [],
   "source": [
    "import pickle\n",
    "with open('sampleData.pickled', 'wb') as f:\n",
    "    pickle.dump(sampleData, f)"
   ]
  },
  {
   "cell_type": "code",
   "execution_count": 25,
   "id": "9cd48b76-d595-4433-b656-c298e8afdba4",
   "metadata": {},
   "outputs": [],
   "source": [
    "M, C = sampleData"
   ]
  },
  {
   "cell_type": "markdown",
   "id": "477ef923-ab9a-42e4-865e-4a8c39289512",
   "metadata": {},
   "source": [
    "# 2.2.1. The Graph\n",
    "You can identify the points in the grid above. The vertices of the graph are:"
   ]
  },
  {
   "cell_type": "code",
   "execution_count": 26,
   "id": "0614d673-5b10-43a0-9c59-35f4deb2a80f",
   "metadata": {},
   "outputs": [
    {
     "data": {
      "text/plain": [
       "[(1500, 2750),\n",
       " (1500, 4000),\n",
       " (1500, 5250),\n",
       " (1500, 6500),\n",
       " (2750, 1500),\n",
       " (2750, 4000),\n",
       " (2750, 5250),\n",
       " (2750, 6500),\n",
       " (4000, 1500),\n",
       " (4000, 2750),\n",
       " (4000, 4000),\n",
       " (4000, 5250),\n",
       " (5250, 1500),\n",
       " (5250, 2750),\n",
       " (5250, 4000),\n",
       " (5250, 6500),\n",
       " (6500, 1500),\n",
       " (6500, 2750),\n",
       " (6500, 4000),\n",
       " (6500, 6500)]"
      ]
     },
     "execution_count": 26,
     "metadata": {},
     "output_type": "execute_result"
    }
   ],
   "source": [
    "V, E = M\n",
    "V"
   ]
  },
  {
   "cell_type": "markdown",
   "id": "053ebb15-1268-4326-a8e0-03ad181d854b",
   "metadata": {},
   "source": [
    "The edges of the graph are: "
   ]
  },
  {
   "cell_type": "code",
   "execution_count": 27,
   "id": "d3be9285-c618-400f-b733-7a44eaf25733",
   "metadata": {},
   "outputs": [
    {
     "data": {
      "text/plain": [
       "[((1500, 2750), (1500, 4000)),\n",
       " ((1500, 2750), (2750, 1500)),\n",
       " ((1500, 4000), (2750, 4000)),\n",
       " ((1500, 5250), (1500, 4000)),\n",
       " ((1500, 5250), (1500, 6500)),\n",
       " ((2750, 5250), (1500, 5250)),\n",
       " ((2750, 5250), (2750, 4000)),\n",
       " ((2750, 5250), (2750, 6500)),\n",
       " ((2750, 6500), (1500, 6500)),\n",
       " ((4000, 1500), (2750, 1500)),\n",
       " ((4000, 2750), (4000, 1500)),\n",
       " ((4000, 4000), (2750, 4000)),\n",
       " ((4000, 4000), (4000, 2750)),\n",
       " ((4000, 4000), (4000, 5250)),\n",
       " ((4000, 4000), (5250, 4000)),\n",
       " ((4000, 5250), (2750, 5250)),\n",
       " ((4000, 5250), (5250, 6500)),\n",
       " ((5250, 1500), (4000, 1500)),\n",
       " ((5250, 1500), (6500, 1500)),\n",
       " ((5250, 2750), (4000, 2750)),\n",
       " ((5250, 2750), (5250, 1500)),\n",
       " ((5250, 2750), (5250, 4000)),\n",
       " ((5250, 2750), (6500, 2750)),\n",
       " ((5250, 4000), (6500, 4000)),\n",
       " ((6500, 2750), (6500, 1500)),\n",
       " ((6500, 2750), (6500, 4000)),\n",
       " ((6500, 6500), (5250, 6500))]"
      ]
     },
     "execution_count": 27,
     "metadata": {},
     "output_type": "execute_result"
    }
   ],
   "source": [
    "E"
   ]
  },
  {
   "cell_type": "markdown",
   "id": "cfb5200e-ff54-464a-9321-819b99400c7e",
   "metadata": {},
   "source": [
    "# 2.2.2. Customer Adressess\n",
    "The customer addresses (green dots in the map) are:"
   ]
  },
  {
   "cell_type": "code",
   "execution_count": 28,
   "id": "456f0a77-fd09-470f-8fb8-464457f15b7b",
   "metadata": {},
   "outputs": [
    {
     "data": {
      "text/plain": [
       "[(1500, 5780), (1500, 6192), (4654, 5904), (6500, 2338), (6500, 3425)]"
      ]
     },
     "execution_count": 28,
     "metadata": {},
     "output_type": "execute_result"
    }
   ],
   "source": [
    "C"
   ]
  },
  {
   "cell_type": "markdown",
   "id": "a51a80a6-c3a6-4939-9087-a8f7e0de889e",
   "metadata": {},
   "source": [
    "# 2.2.3. The Warehouse Address\n",
    "Warehouses should be located on or near an intersection on the map. To generate a warehouse address use:"
   ]
  },
  {
   "cell_type": "code",
   "execution_count": 29,
   "id": "5ad490c5-26de-47cc-9544-6e079d718af4",
   "metadata": {},
   "outputs": [],
   "source": [
    "W = generateWarehouseLocation(M)"
   ]
  },
  {
   "cell_type": "code",
   "execution_count": 30,
   "id": "bea1e579-d72f-4f57-9bc6-6f842e521a4a",
   "metadata": {},
   "outputs": [
    {
     "data": {
      "text/plain": [
       "(4000, 5250)"
      ]
     },
     "execution_count": 30,
     "metadata": {},
     "output_type": "execute_result"
    }
   ],
   "source": [
    "W"
   ]
  },
  {
   "cell_type": "code",
   "execution_count": 31,
   "id": "f3434fcb-b908-4d85-92a1-c2d5c7f8e178",
   "metadata": {
    "scrolled": true
   },
   "outputs": [
    {
     "data": {
      "image/png": "[encoded data removed]",
      "text/plain": [
       "<Figure size 600x600 with 1 Axes>"
      ]
     },
     "metadata": {},
     "output_type": "display_data"
    }
   ],
   "source": [
    "plotMap((V, E), T=C, W=W)"
   ]
  },
  {
   "cell_type": "markdown",
   "id": "7ae8ddb4-40a7-4a20-96ad-f9a6e6eb3931",
   "metadata": {},
   "source": [
    "# 2.3. Real Data"
   ]
  },
  {
   "cell_type": "markdown",
   "id": "b83c65e0-b70d-47df-ba83-33da00242385",
   "metadata": {},
   "source": [
    "In this section, I used the last 4 digit of my student number to generate data"
   ]
  },
  {
   "cell_type": "code",
   "execution_count": 32,
   "id": "efd05d7d-1137-4226-9d91-a9128a17b509",
   "metadata": {},
   "outputs": [
    {
     "name": "stdout",
     "output_type": "stream",
     "text": [
      "Generated map with 100 nodes and 150 customer locations\n"
     ]
    },
    {
     "data": {
      "image/png": "[encoded data removed]",
      "text/plain": [
       "<Figure size 600x600 with 1 Axes>"
      ]
     },
     "metadata": {},
     "output_type": "display_data"
    }
   ],
   "source": [
    "data = generateData(5640, plot=True, log=True)"
   ]
  },
  {
   "cell_type": "markdown",
   "id": "d42cb6fe-8df6-413a-82ac-6641d43ad62f",
   "metadata": {},
   "source": [
    "Save sample data as pickle file:"
   ]
  },
  {
   "cell_type": "code",
   "execution_count": 33,
   "id": "8f02ecaf-8943-402d-bf9b-b315bea99e4a",
   "metadata": {},
   "outputs": [],
   "source": [
    "import pickle\n",
    "with open('data.pickled', 'wb') as f:\n",
    "    pickle.dump(data, f)"
   ]
  },
  {
   "cell_type": "code",
   "execution_count": 34,
   "id": "da60016c-88b4-4d71-8df4-96b6ef374a7d",
   "metadata": {},
   "outputs": [
    {
     "name": "stdout",
     "output_type": "stream",
     "text": [
      "Generated map with 100 nodes and 150 customer locations\n"
     ]
    },
    {
     "data": {
      "image/png": "[encoded data removed]",
      "text/plain": [
       "<Figure size 600x600 with 1 Axes>"
      ]
     },
     "metadata": {},
     "output_type": "display_data"
    }
   ],
   "source": [
    "xdata = generateData(5640, plot=True, log=True)"
   ]
  },
  {
   "cell_type": "code",
   "execution_count": 35,
   "id": "96f370f4-4742-4593-9a87-7da2f69221ca",
   "metadata": {},
   "outputs": [],
   "source": [
    "import pickle\n",
    "with open('xdata.pickled', 'wb') as f:\n",
    "    pickle.dump(xdata, f)"
   ]
  },
  {
   "cell_type": "code",
   "execution_count": 36,
   "id": "f293d5ae-b998-4583-ae9c-612cc2e0de4a",
   "metadata": {},
   "outputs": [
    {
     "name": "stdout",
     "output_type": "stream",
     "text": [
      "Generated map with 40 nodes and 20 customer locations\n"
     ]
    },
    {
     "data": {
      "image/png": "[encoded data removed]",
      "text/plain": [
       "<Figure size 600x600 with 1 Axes>"
      ]
     },
     "metadata": {},
     "output_type": "display_data"
    }
   ],
   "source": [
    "myData = generateData(5640, nodes=40, customers=20, plot=True, log=True)"
   ]
  },
  {
   "cell_type": "code",
   "execution_count": 37,
   "id": "df8acf86-17ac-4af7-a3b9-ed5652457d55",
   "metadata": {},
   "outputs": [],
   "source": [
    "import pickle\n",
    "with open('myData.pickled', 'wb') as f:\n",
    "    pickle.dump(myData, f)"
   ]
  }
 ],
 "metadata": {
  "kernelspec": {
   "display_name": "Python 3 (ipykernel)",
   "language": "python",
   "name": "python3"
  },
  "language_info": {
   "codemirror_mode": {
    "name": "ipython",
    "version": 3
   },
   "file_extension": ".py",
   "mimetype": "text/x-python",
   "name": "python",
   "nbconvert_exporter": "python",
   "pygments_lexer": "ipython3",
   "version": "3.12.2"
  }
 },
 "nbformat": 4,
 "nbformat_minor": 5
}
