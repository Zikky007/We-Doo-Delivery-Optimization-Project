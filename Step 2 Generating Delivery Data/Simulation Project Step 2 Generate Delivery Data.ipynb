{
 "cells": [
  {
   "cell_type": "code",
   "execution_count": 1,
   "id": "222a0687-860a-48e8-8a1d-12b2362029ca",
   "metadata": {},
   "outputs": [],
   "source": [
    "import matplotlib.pyplot as plt\n",
    "import math\n",
    "import random\n",
    "import numpy as np"
   ]
  },
  {
   "cell_type": "markdown",
   "id": "6ed088e2-a047-4318-818e-510c6a3bbd17",
   "metadata": {},
   "source": [
    "The following codes used in this notebook was made available in moodle page of my student account"
   ]
  },
  {
   "cell_type": "markdown",
   "id": "6713569c-1f67-425f-83d8-c59b6025511d",
   "metadata": {},
   "source": [
    "# 1. Points and Distances"
   ]
  },
  {
   "cell_type": "code",
   "execution_count": 2,
   "id": "ffd49da2-2d47-43cb-9b26-dd818246d97b",
   "metadata": {},
   "outputs": [],
   "source": [
    "def dist(p1, p2):\n",
    "    (x1, y1) = p1\n",
    "    (x2, y2) = p2\n",
    "    return int(math.sqrt((x1-x2)**2+(y1-y2)**2))"
   ]
  },
  {
   "cell_type": "markdown",
   "id": "22a07b2e-62f9-4749-8445-8de2db7f906c",
   "metadata": {},
   "source": [
    "# 1.1. Maps"
   ]
  },
  {
   "cell_type": "code",
   "execution_count": 3,
   "id": "d3ac6e27-caa2-43cf-bd45-8215a0d58ae2",
   "metadata": {},
   "outputs": [],
   "source": [
    "def plotMap(G, T=[], P=[], W=None,\n",
    "            style='r-o', lw=1, ms=3, \n",
    "            styleT='go', msT=5,\n",
    "            styleP='b-o', lwP=3, msP=1,\n",
    "            stylePT='go', msPT=7,\n",
    "            styleW='bo', msW=7,\n",
    "            text=None, grid=False):\n",
    "    fig = plt.gcf()\n",
    "    fig.set_size_inches(6, 6)\n",
    "    V, E = G\n",
    "\n",
    "    if not grid:\n",
    "        plt.axis('off')\n",
    "    plt.plot( [ p[0] for p in V ], [ p[1] for p in V ], 'ro', lw=lw, ms=ms)\n",
    "    for (p, q) in E:\n",
    "        plt.plot( [ p[0], q[0] ], [ p[1], q[1] ], 'r-o', lw=lw, ms=ms)\n",
    "    for t in T:\n",
    "        plt.plot( [ t[0] ], [ t[1] ], \n",
    "                  styleT, ms=msT)\n",
    "    plt.plot( [ p[0] for p in P ],\n",
    "              [ p[1] for p in P ], \n",
    "              styleP, lw=lwP, ms=msP)\n",
    "    for p in P:\n",
    "        if p in T:\n",
    "            plt.plot( [ p[0] ], [ p[1] ], \n",
    "                      stylePT, ms=msPT)\n",
    "    if W is not None:\n",
    "        plt.plot( [ W[0] ], [ W[1] ], \n",
    "                      styleW, ms=msW)\n",
    "    if text is not None:\n",
    "        maxX = max([p[0] for p in V])\n",
    "        plt.text(0.8*maxX, 0, text)\n",
    "    if grid:\n",
    "        plt.grid()\n",
    "    plt.show()"
   ]
  },
  {
   "cell_type": "markdown",
   "id": "c5b9f53f-3c00-40a2-b3d3-884af1b59905",
   "metadata": {},
   "source": [
    "# 1.2 Add Targets"
   ]
  },
  {
   "cell_type": "code",
   "execution_count": 4,
   "id": "a9780d52-cf71-45e8-abc3-5a7e6a751948",
   "metadata": {},
   "outputs": [],
   "source": [
    "def addTargets(M, T):\n",
    "    V, E = M\n",
    "    E = E.copy()\n",
    "    V = V.copy()\n",
    "    for t in T:\n",
    "        minD = math.inf\n",
    "        minE = None\n",
    "        for e in E:\n",
    "            P, Q = e\n",
    "            distT = dist(P, t)+dist(t, Q)-dist(P, Q)\n",
    "            if distT < minD:\n",
    "                minD = distT\n",
    "                minE = e\n",
    "        P, Q = minE\n",
    "        E.remove( (P, Q) )\n",
    "        E.append( (P, t) )\n",
    "        E.append( (t, Q) )\n",
    "        V.append(t)\n",
    "    return V, E"
   ]
  },
  {
   "cell_type": "markdown",
   "id": "f949bad5-27e5-4413-8b1b-440ef42618a6",
   "metadata": {},
   "source": [
    "# 1.3. Generate Warehouse Locations"
   ]
  },
  {
   "cell_type": "code",
   "execution_count": 5,
   "id": "d1209cd3-388a-4662-905e-8bbb78519ea1",
   "metadata": {},
   "outputs": [],
   "source": [
    "def generateWarehouseLocation(M):\n",
    "    V, _ = M\n",
    "    W = random.sample(V, k=1)[0]\n",
    "    return W"
   ]
  },
  {
   "cell_type": "markdown",
   "id": "5794b74d-74c3-4cd1-8d66-d186acc1054f",
   "metadata": {},
   "source": [
    "# 2. Loading Sample Data"
   ]
  },
  {
   "cell_type": "code",
   "execution_count": 6,
   "id": "902a7fec-b8a7-4190-b1ef-5e1993c8e26d",
   "metadata": {},
   "outputs": [],
   "source": [
    "import pickle\n",
    "with open('data.pickled', 'rb') as f:\n",
    "    M, C = pickle.load(f)"
   ]
  },
  {
   "cell_type": "markdown",
   "id": "db4bf855-b0ea-48b5-a4aa-1b1d99eb4027",
   "metadata": {},
   "source": [
    "Split the maps into Vertices and Edges:"
   ]
  },
  {
   "cell_type": "code",
   "execution_count": 7,
   "id": "db67b301-48e2-43c1-b784-5d8fae7ef12f",
   "metadata": {},
   "outputs": [],
   "source": [
    "V, E = M"
   ]
  },
  {
   "cell_type": "markdown",
   "id": "c994db68-055b-4c91-8968-c7a065072bf5",
   "metadata": {},
   "source": [
    "I am using the last 4 digit of my student numeber as the seed number for a random location for the Warehouse at one of the intersections (vertices) on the map."
   ]
  },
  {
   "cell_type": "code",
   "execution_count": 8,
   "id": "0a2e438c-8941-4169-811d-68b6a77bb1d6",
   "metadata": {},
   "outputs": [],
   "source": [
    "W = generateWarehouseLocation(M)"
   ]
  },
  {
   "cell_type": "code",
   "execution_count": 9,
   "id": "e7c41b88-8980-49cb-94ce-1cb2ae7d1fe9",
   "metadata": {},
   "outputs": [
    {
     "data": {
      "image/png": "[encoded data removed]",
      "text/plain": [
       "<Figure size 600x600 with 1 Axes>"
      ]
     },
     "metadata": {},
     "output_type": "display_data"
    }
   ],
   "source": [
    "plotMap(M, T=C, P=[], W=W, text=\"seed=5640\")"
   ]
  },
  {
   "cell_type": "markdown",
   "id": "7cdf50b9-751e-4d27-bdc8-a7e676ee59f6",
   "metadata": {},
   "source": [
    "# 3. Generating Delivery Data"
   ]
  },
  {
   "cell_type": "code",
   "execution_count": 10,
   "id": "ebee3edf-2095-4c7c-bc18-384c496fcfd5",
   "metadata": {},
   "outputs": [],
   "source": [
    "def generateDeliveryData(p, C, n, seed=5640):\n",
    "    # Parameters for simulation\n",
    "    # p = 0.15 represent the average number of parcels per day per customer\n",
    "    # C = 10 represent the number of customers to be served\n",
    "    # n = represent the number of days for which data are to be generated\n",
    "    np.random.seed(seed)\n",
    "    R = np.random.poisson(lam=C*p, size=n)\n",
    "    D = [ sorted(list(np.random.choice(range(C), size=i))) for i in R ]\n",
    "    return D"
   ]
  },
  {
   "cell_type": "code",
   "execution_count": 11,
   "id": "fa0880c6-eb2e-423f-8e57-4d1dee9b3589",
   "metadata": {},
   "outputs": [
    {
     "data": {
      "text/plain": [
       "[[4, 8, 9, 25, 46, 50, 53, 55, 55, 56, 64, 65, 67, 73, 99, 110, 143],\n",
       " [6,\n",
       "  7,\n",
       "  13,\n",
       "  37,\n",
       "  37,\n",
       "  39,\n",
       "  40,\n",
       "  51,\n",
       "  55,\n",
       "  57,\n",
       "  63,\n",
       "  86,\n",
       "  90,\n",
       "  90,\n",
       "  93,\n",
       "  94,\n",
       "  95,\n",
       "  125,\n",
       "  138,\n",
       "  147],\n",
       " [9, 13, 19, 24, 32, 42, 44, 45, 51, 58, 62, 70, 97, 112, 130],\n",
       " [7,\n",
       "  10,\n",
       "  21,\n",
       "  22,\n",
       "  23,\n",
       "  25,\n",
       "  27,\n",
       "  32,\n",
       "  43,\n",
       "  49,\n",
       "  61,\n",
       "  62,\n",
       "  74,\n",
       "  74,\n",
       "  82,\n",
       "  82,\n",
       "  85,\n",
       "  86,\n",
       "  90,\n",
       "  90,\n",
       "  94,\n",
       "  97,\n",
       "  102,\n",
       "  107,\n",
       "  107,\n",
       "  113,\n",
       "  117,\n",
       "  124,\n",
       "  125,\n",
       "  129,\n",
       "  138,\n",
       "  144],\n",
       " [6, 16, 30, 34, 36, 44, 46, 47, 55, 88, 100, 131, 134, 145, 145],\n",
       " [5, 12, 33, 42, 43, 51, 51, 51, 66, 91, 91, 93, 94, 123, 127, 132, 147, 149],\n",
       " [10,\n",
       "  11,\n",
       "  16,\n",
       "  16,\n",
       "  21,\n",
       "  27,\n",
       "  30,\n",
       "  41,\n",
       "  46,\n",
       "  47,\n",
       "  54,\n",
       "  63,\n",
       "  63,\n",
       "  79,\n",
       "  79,\n",
       "  93,\n",
       "  104,\n",
       "  106,\n",
       "  110,\n",
       "  117,\n",
       "  124,\n",
       "  127,\n",
       "  132,\n",
       "  134,\n",
       "  141,\n",
       "  147]]"
      ]
     },
     "execution_count": 11,
     "metadata": {},
     "output_type": "execute_result"
    }
   ],
   "source": [
    "D = generateDeliveryData(0.15, 150, 7)\n",
    "D"
   ]
  },
  {
   "cell_type": "code",
   "execution_count": 12,
   "id": "67b420ee-f690-4028-9168-f6efb1b4a40d",
   "metadata": {},
   "outputs": [
    {
     "data": {
      "text/plain": [
       "143"
      ]
     },
     "execution_count": 12,
     "metadata": {},
     "output_type": "execute_result"
    }
   ],
   "source": [
    "sum([len(i) for i in D])"
   ]
  },
  {
   "cell_type": "markdown",
   "id": "2b2e6fcc-f227-4f4d-902c-1a2c7199cee2",
   "metadata": {},
   "source": [
    "Over a period of 7 days, a total of 143  parcels are to be delivered:\n",
    "\n",
    "- On the First day deliver 1 parcel each was to customers 4, 8, 9, 25, 46, 50, 53, 56, 64, 65, 67, 73, 99, 110, 143. Customer 55 receives 2 parcels\n",
    "- On the second day deliver 1 parcel each to customers 6, 7, 13, 39, 40, 51, 55, 57, 63, 86, 93, 94, 95, 125, 138, 147. Customers 37 and 90 each receive 2 parcels.\n",
    "- On the third day deliver 1 parcel each to customers 9, 13, 19, 24, 32, 42, 44, 45, 51, 58, 62, 70, 97, 112, 130.\n",
    "- On the fourth day deliver 1 parcel each to customers 7, 10, 21, 22, 23, 25, 27, 32, 43, 49, 61, 62, 85, 86, 94, 97, 102, 113, 117, 124, 125, 129, 138, 144. Customers 74, 82, 90, 107 each receive 2 parcels.\n",
    "- On the fifth day deliver 1 parcel each to customers 6, 16, 30, 34, 36, 44, 46, 47, 55, 88, 100, 131, 134. Customer 145 receives 2 parcels.\n",
    "- On the sixth day deliver 1 parcel each to customers 5, 12, 33, 42, 43, 66, 94, 123, 127, 132, 147, 149. Customer 51 receives 3 parcels. Customers 91, 93 each receive 2 parcels.\n",
    "- On the seventh day deliver 1 parcel each to customers 10.\n"
   ]
  },
  {
   "cell_type": "markdown",
   "id": "19c4afe7-d860-4857-876e-e59003a3d022",
   "metadata": {},
   "source": [
    "# 4. Delivery over 20 days for Map"
   ]
  },
  {
   "cell_type": "code",
   "execution_count": 13,
   "id": "c21789a8-aab5-476a-a137-05515fb81010",
   "metadata": {},
   "outputs": [],
   "source": [
    "D = generateDeliveryData(0.15, len(C), 20)"
   ]
  },
  {
   "cell_type": "code",
   "execution_count": 14,
   "id": "d5c003cf-e47b-42bf-a7c9-c6475739fa74",
   "metadata": {},
   "outputs": [
    {
     "data": {
      "text/plain": [
       "469"
      ]
     },
     "execution_count": 14,
     "metadata": {},
     "output_type": "execute_result"
    }
   ],
   "source": [
    "sum([len(i) for i in D])"
   ]
  },
  {
   "cell_type": "markdown",
   "id": "9c4032ed-cd33-456c-8928-105c5ac8a06b",
   "metadata": {},
   "source": [
    "# 4.1. Delivery over one Month for Map"
   ]
  },
  {
   "cell_type": "code",
   "execution_count": 15,
   "id": "fc063736-bab2-4307-9b54-514d16518043",
   "metadata": {},
   "outputs": [],
   "source": [
    "D = generateDeliveryData(0.15, len(C), 30)"
   ]
  },
  {
   "cell_type": "code",
   "execution_count": 16,
   "id": "4e393106-a108-4c9b-a707-74ee54472a9c",
   "metadata": {},
   "outputs": [
    {
     "data": {
      "text/plain": [
       "677"
      ]
     },
     "execution_count": 16,
     "metadata": {},
     "output_type": "execute_result"
    }
   ],
   "source": [
    "sum([len(i) for i in D])"
   ]
  }
 ],
 "metadata": {
  "kernelspec": {
   "display_name": "Python 3 (ipykernel)",
   "language": "python",
   "name": "python3"
  },
  "language_info": {
   "codemirror_mode": {
    "name": "ipython",
    "version": 3
   },
   "file_extension": ".py",
   "mimetype": "text/x-python",
   "name": "python",
   "nbconvert_exporter": "python",
   "pygments_lexer": "ipython3",
   "version": "3.12.2"
  }
 },
 "nbformat": 4,
 "nbformat_minor": 5
}
